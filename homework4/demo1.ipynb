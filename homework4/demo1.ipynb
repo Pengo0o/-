{
 "cells": [
  {
   "cell_type": "code",
   "execution_count": 57,
   "metadata": {},
   "outputs": [
    {
     "name": "stdout",
     "output_type": "stream",
     "text": [
      "<class 'pandas.core.frame.DataFrame'>\n",
      "RangeIndex: 214 entries, 0 to 213\n",
      "Data columns (total 9 columns):\n",
      " #   Column  Non-Null Count  Dtype  \n",
      "---  ------  --------------  -----  \n",
      " 0   RI      214 non-null    float64\n",
      " 1   Na      214 non-null    float64\n",
      " 2   Mg      214 non-null    float64\n",
      " 3   Al      214 non-null    float64\n",
      " 4   Si      214 non-null    float64\n",
      " 5   K       214 non-null    float64\n",
      " 6   Ca      214 non-null    float64\n",
      " 7   Ba      214 non-null    float64\n",
      " 8   Fe      214 non-null    float64\n",
      "dtypes: float64(9)\n",
      "memory usage: 15.2 KB\n",
      "None\n"
     ]
    }
   ],
   "source": [
    "from ucimlrepo import fetch_ucirepo \n",
    "  \n",
    "# fetch dataset \n",
    "glass_identification = fetch_ucirepo(id=42) \n",
    "  \n",
    "# data (as pandas dataframes) \n",
    "X = glass_identification.data.features \n",
    "y = glass_identification.data.targets \n",
    "\n",
    "print(X.info())"
   ]
  },
  {
   "cell_type": "code",
   "execution_count": 52,
   "metadata": {},
   "outputs": [],
   "source": [
    "import seaborn as sns\n",
    "# %config InlineBackend.figure_format = 'svg'\n",
    "%matplotlib qt5\n",
    "import matplotlib.pyplot as plt\n",
    "# 对特征进行配对绘图\n",
    "sns.pairplot(X)\n",
    "# 显示图形\n",
    "plt.show()"
   ]
  },
  {
   "cell_type": "markdown",
   "metadata": {},
   "source": [
    "### 预处理\n",
    "> 无缺失值\n",
    ">\n",
    "> 异常值\n",
    ">\n",
    "> 归一化"
   ]
  },
  {
   "cell_type": "code",
   "execution_count": 58,
   "metadata": {},
   "outputs": [],
   "source": [
    "import matplotlib.pyplot as plt\n",
    "import seaborn as sns\n",
    "import numpy as np\n",
    "import warnings\n",
    "warnings.filterwarnings('ignore')"
   ]
  },
  {
   "cell_type": "code",
   "execution_count": 59,
   "metadata": {},
   "outputs": [],
   "source": [
    "\n",
    "\n",
    "plt.figure(figsize=(10, 6))\n",
    "plt.rcParams['font.sans-serif'] = ['SimHei']  # 使用黑体\n",
    "plt.rcParams['axes.unicode_minus'] = False\n",
    "sns.boxplot(data=X)\n",
    "plt.title('Boxplot of Glass Composition')\n",
    "plt.show()\n"
   ]
  },
  {
   "cell_type": "code",
   "execution_count": 54,
   "metadata": {},
   "outputs": [],
   "source": [
    "def filter(column):\n",
    "    # 计算 Q1, Q3 和 IQR\n",
    "    Q1 = X[column].quantile(0.25)\n",
    "    Q3 = X[column].quantile(0.75)\n",
    "    IQR = Q3 - Q1\n",
    "    # 定义异常值的条件\n",
    "    condition = (X[column] < (Q1 - 1.5 * IQR)) | (X[column] > (Q3 + 1.5 * IQR))\n",
    "    X[column] = np.where(condition,np.nan,X[column])\n",
    "\n",
    "for column in X.columns:\n",
    "    filter(column)\n"
   ]
  },
  {
   "cell_type": "code",
   "execution_count": 55,
   "metadata": {},
   "outputs": [
    {
     "name": "stdout",
     "output_type": "stream",
     "text": [
      "<class 'pandas.core.frame.DataFrame'>\n",
      "RangeIndex: 214 entries, 0 to 213\n",
      "Data columns (total 9 columns):\n",
      " #   Column  Non-Null Count  Dtype  \n",
      "---  ------  --------------  -----  \n",
      " 0   RI      197 non-null    float64\n",
      " 1   Na      207 non-null    float64\n",
      " 2   Mg      214 non-null    float64\n",
      " 3   Al      196 non-null    float64\n",
      " 4   Si      202 non-null    float64\n",
      " 5   K       207 non-null    float64\n",
      " 6   Ca      188 non-null    float64\n",
      " 7   Ba      176 non-null    float64\n",
      " 8   Fe      202 non-null    float64\n",
      "dtypes: float64(9)\n",
      "memory usage: 15.2 KB\n",
      "brfore:\n",
      " None\n",
      "<class 'pandas.core.frame.DataFrame'>\n",
      "RangeIndex: 214 entries, 0 to 213\n",
      "Data columns (total 9 columns):\n",
      " #   Column  Non-Null Count  Dtype  \n",
      "---  ------  --------------  -----  \n",
      " 0   RI      214 non-null    float64\n",
      " 1   Na      214 non-null    float64\n",
      " 2   Mg      214 non-null    float64\n",
      " 3   Al      214 non-null    float64\n",
      " 4   Si      214 non-null    float64\n",
      " 5   K       214 non-null    float64\n",
      " 6   Ca      214 non-null    float64\n",
      " 7   Ba      214 non-null    float64\n",
      " 8   Fe      214 non-null    float64\n",
      "dtypes: float64(9)\n",
      "memory usage: 15.2 KB\n",
      "After:\n",
      " None\n"
     ]
    }
   ],
   "source": [
    "print(\"brfore:\\n\",X.info())\n",
    "X.interpolate(method='linear',inplace=True)\n",
    "print(\"After:\\n\",X.info())"
   ]
  },
  {
   "cell_type": "code",
   "execution_count": 56,
   "metadata": {},
   "outputs": [],
   "source": [
    "plt.figure(figsize=(10, 6))\n",
    "plt.rcParams['font.sans-serif'] = ['SimHei']  # 使用黑体\n",
    "plt.rcParams['axes.unicode_minus'] = False\n",
    "sns.boxplot(data=X)\n",
    "plt.title('After preprocessed:Boxplot of Glass Composition')\n",
    "plt.show()"
   ]
  },
  {
   "cell_type": "code",
   "execution_count": 9,
   "metadata": {},
   "outputs": [],
   "source": [
    "from sklearn.preprocessing import StandardScaler\n",
    "scaler = StandardScaler()\n",
    "X_scaled = scaler.fit_transform(X)"
   ]
  },
  {
   "cell_type": "markdown",
   "metadata": {},
   "source": [
    "*****"
   ]
  },
  {
   "cell_type": "code",
   "execution_count": 10,
   "metadata": {},
   "outputs": [],
   "source": [
    "from sklearn.model_selection import train_test_split\n",
    "from sklearn.ensemble import RandomForestClassifier, GradientBoostingClassifier, AdaBoostClassifier\n",
    "X_train, X_test, y_train, y_test = train_test_split(X_scaled, y, test_size=0.3, random_state=42)"
   ]
  },
  {
   "cell_type": "code",
   "execution_count": 11,
   "metadata": {},
   "outputs": [
    {
     "name": "stdout",
     "output_type": "stream",
     "text": [
      "Number of physical cores: 8\n"
     ]
    }
   ],
   "source": [
    "import joblib\n",
    "N_CORES = joblib.cpu_count(only_physical_cores=True)\n",
    "print(f\"Number of physical cores: {N_CORES}\")"
   ]
  },
  {
   "cell_type": "markdown",
   "metadata": {},
   "source": [
    "#### RandomForeast"
   ]
  },
  {
   "cell_type": "code",
   "execution_count": 22,
   "metadata": {},
   "outputs": [
    {
     "name": "stdout",
     "output_type": "stream",
     "text": [
      "Best parameters: {'max_depth': None, 'min_samples_leaf': 1, 'min_samples_split': 5, 'n_estimators': 100}\n",
      "Best score: 0.6424080549080549\n"
     ]
    }
   ],
   "source": [
    "from sklearn.model_selection import GridSearchCV\n",
    "RmFt = RandomForestClassifier(n_estimators=100, n_jobs=N_CORES, random_state=42)\n",
    "RmFT_paramas = {\n",
    "    'n_estimators': [10,20,50,100 ,200],\n",
    "    'max_depth': [None,5, 10],\n",
    "    'min_samples_split': [2, 5, 10, 15],\n",
    "    'min_samples_leaf': [1, 2, 5]\n",
    "}\n",
    "\n",
    "RmFt_grid = GridSearchCV(RmFt, RmFT_paramas, cv=5, n_jobs=N_CORES,scoring='precision_micro')  \n",
    "RmFt_grid.fit(X_train, y_train)\n",
    "\n",
    "print(f\"Best parameters: {RmFt_grid.best_params_}\")\n",
    "print(f\"Best score: {RmFt_grid.best_score_}\")\n",
    "\n"
   ]
  },
  {
   "cell_type": "code",
   "execution_count": 28,
   "metadata": {},
   "outputs": [
    {
     "name": "stdout",
     "output_type": "stream",
     "text": [
      "Precision: 0.8882539682539683\n",
      "Recall: 0.8153846153846154\n",
      "F1 Score: 0.8220361509835193\n"
     ]
    }
   ],
   "source": [
    "from sklearn.metrics import precision_score, recall_score, f1_score\n",
    "RmFt_best = RmFt_grid.best_estimator_\n",
    "RmFt_y_pred = RmFt_best.predict(X_test)\n",
    "\n",
    "# 计算准确率\n",
    "precision = precision_score(y_test, RmFt_y_pred, average='macro')\n",
    "print(f\"Precision: {precision}\")\n",
    "\n",
    "# 计算查全率\n",
    "recall = recall_score(y_test, RmFt_y_pred, average='micro')\n",
    "print(f\"Recall: {recall}\")\n",
    "\n",
    "# 计算 F1 分数\n",
    "f1 = f1_score(y_test, RmFt_y_pred, average='macro')\n",
    "print(f\"F1 Score: {f1}\")"
   ]
  },
  {
   "cell_type": "markdown",
   "metadata": {},
   "source": [
    "#### GradientBoost"
   ]
  },
  {
   "cell_type": "code",
   "execution_count": 29,
   "metadata": {},
   "outputs": [
    {
     "name": "stdout",
     "output_type": "stream",
     "text": [
      "Best parameters: {'max_depth': 5, 'min_samples_leaf': 2, 'min_samples_split': 10, 'n_estimators': 200}\n",
      "Best score: 0.7050574712643678\n"
     ]
    }
   ],
   "source": [
    "from sklearn.ensemble import GradientBoostingClassifier\n",
    "from sklearn.model_selection import GridSearchCV\n",
    "\n",
    "# 创建梯度提升模型\n",
    "gb = GradientBoostingClassifier(random_state=42)\n",
    "\n",
    "# 定义超参数网格\n",
    "gb_params = {\n",
    "    'n_estimators': [10, 20, 50, 100, 200],\n",
    "    'max_depth': [None, 5, 10],\n",
    "    'min_samples_split': [2, 5, 10, 15],\n",
    "    'min_samples_leaf': [1, 2, 5]\n",
    "}\n",
    "\n",
    "# 创建 GridSearchCV 对象\n",
    "gb_grid = GridSearchCV(gb, gb_params, cv=5, scoring='precision_micro')\n",
    "\n",
    "# 进行超参数搜索\n",
    "gb_grid.fit(X_train, y_train)\n",
    "\n",
    "# 输出最佳参数和最佳分数\n",
    "print(f\"Best parameters: {gb_grid.best_params_}\")\n",
    "print(f\"Best score: {gb_grid.best_score_}\")"
   ]
  },
  {
   "cell_type": "code",
   "execution_count": 35,
   "metadata": {},
   "outputs": [
    {
     "name": "stdout",
     "output_type": "stream",
     "text": [
      "Precision: 0.8075318401405358\n",
      "Recall: 0.7538461538461538\n",
      "F1 Score: 0.7538461538461538\n"
     ]
    }
   ],
   "source": [
    "from sklearn.metrics import precision_score, recall_score, f1_score\n",
    "gb_best = gb_grid.best_estimator_\n",
    "gb_y_pred =gb_best.predict(X_test)\n",
    "\n",
    "# 计算准确率\n",
    "precision = precision_score(y_test, gb_y_pred, average='macro')\n",
    "print(f\"Precision: {precision}\")\n",
    "\n",
    "# 计算查全率\n",
    "recall = recall_score(y_test, gb_y_pred, average='micro')\n",
    "print(f\"Recall: {recall}\")\n",
    "\n",
    "# 计算 F1 分数\n",
    "f1 = f1_score(y_test, gb_y_pred, average='micro')\n",
    "print(f\"F1 Score: {f1}\")"
   ]
  },
  {
   "cell_type": "code",
   "execution_count": 44,
   "metadata": {},
   "outputs": [
    {
     "name": "stdout",
     "output_type": "stream",
     "text": [
      "Best parameters: {'learning_rate': 0.1, 'n_estimators': 10}\n",
      "Best score: 0.4970114942528735\n"
     ]
    }
   ],
   "source": [
    "from sklearn.ensemble import AdaBoostClassifier\n",
    "from sklearn.model_selection import GridSearchCV\n",
    "\n",
    "# 创建 AdaBoost 模型\n",
    "ada = AdaBoostClassifier(random_state=42)\n",
    "\n",
    "# 定义超参数网格\n",
    "ada_params = {\n",
    "    'n_estimators': [10, 20, 50, 100, 150,200],\n",
    "    'learning_rate': [0.01, 0.1, 1, 10]\n",
    "}\n",
    "\n",
    "# 创建 GridSearchCV 对象\n",
    "ada_grid = GridSearchCV(ada, ada_params, cv=5, scoring='accuracy')\n",
    "\n",
    "# 进行超参数搜索\n",
    "ada_grid.fit(X_train, y_train)\n",
    "\n",
    "# 输出最佳参数和最佳分数\n",
    "print(f\"Best parameters: {ada_grid.best_params_}\")\n",
    "print(f\"Best score: {ada_grid.best_score_}\")"
   ]
  },
  {
   "cell_type": "code",
   "execution_count": 48,
   "metadata": {},
   "outputs": [
    {
     "name": "stdout",
     "output_type": "stream",
     "text": [
      "Precision: 0.4307692307692308\n",
      "Recall: 0.4307692307692308\n",
      "F1 Score: 0.43076923076923074\n"
     ]
    }
   ],
   "source": [
    "from sklearn.metrics import precision_score, recall_score, f1_score\n",
    "\n",
    "ada_best = ada_grid.best_estimator_\n",
    "ada_y_pred = ada_best.predict(X_test)\n",
    "\n",
    "# 计算准确率\n",
    "precision = precision_score(y_test, ada_y_pred, average='micro')\n",
    "print(f\"Precision: {precision}\")\n",
    "\n",
    "# 计算查全率\n",
    "recall = recall_score(y_test, ada_y_pred, average='micro')\n",
    "print(f\"Recall: {recall}\")\n",
    "\n",
    "# 计算 F1 分数\n",
    "f1 = f1_score(y_test, ada_y_pred, average='micro')\n",
    "print(f\"F1 Score: {f1}\")"
   ]
  }
 ],
 "metadata": {
  "kernelspec": {
   "display_name": "hyp",
   "language": "python",
   "name": "python3"
  },
  "language_info": {
   "codemirror_mode": {
    "name": "ipython",
    "version": 3
   },
   "file_extension": ".py",
   "mimetype": "text/x-python",
   "name": "python",
   "nbconvert_exporter": "python",
   "pygments_lexer": "ipython3",
   "version": "3.10.11"
  }
 },
 "nbformat": 4,
 "nbformat_minor": 2
}
